{
 "cells": [
  {
   "cell_type": "code",
   "execution_count": 1,
   "metadata": {},
   "outputs": [
    {
     "name": "stderr",
     "output_type": "stream",
     "text": [
      "unable to import 'smart_open.gcs', disabling that module\n"
     ]
    }
   ],
   "source": [
    "import requests\n",
    "import re\n",
    "from bs4 import BeautifulSoup\n",
    "import numpy as np\n",
    "import pandas as pd\n",
    "import time\n",
    "import json\n",
    "import spacy\n",
    "import matplotlib.pyplot as plt\n",
    "from datetime import datetime\n",
    "import gensim\n",
    "import gensim.corpora as corpora\n",
    "from gensim.models.doc2vec import Doc2Vec, TaggedDocument\n",
    "from gensim.test.utils import get_tmpfile, datapath\n",
    "from gensim.utils import simple_preprocess\n",
    "from nltk.corpus import stopwords\n",
    "import warnings\n",
    "warnings.filterwarnings(\"ignore\")\n",
    "from wordcloud import WordCloud\n",
    "from nltk.tokenize import word_tokenize\n",
    "from sklearn.feature_extraction.text import CountVectorizer     \n",
    "from sklearn.feature_extraction.text import TfidfVectorizer     \n",
    "from nltk.corpus import stopwords"
   ]
  },
  {
   "cell_type": "code",
   "execution_count": 2,
   "metadata": {},
   "outputs": [
    {
     "data": {
      "text/plain": [
       "120"
      ]
     },
     "execution_count": 2,
     "metadata": {},
     "output_type": "execute_result"
    }
   ],
   "source": [
    "# url \n",
    "url = \"https://www.theguardian.com/uk\"\n",
    "r1 = requests.get(url)\n",
    "r1.status_code\n",
    "\n",
    "# save cover page content\n",
    "coverpage = r1.content\n",
    "\n",
    "\n",
    "soup1 = BeautifulSoup(coverpage, 'html5lib')\n",
    "\n",
    "# News identification\n",
    "coverpage_news = soup1.find_all('h3', class_='fc-item__title')\n",
    "len(coverpage_news)"
   ]
  },
  {
   "cell_type": "code",
   "execution_count": 3,
   "metadata": {},
   "outputs": [],
   "source": [
    "number_of_articles = len(coverpage_news)\n",
    "# Empty lists for content, links and titles\n",
    "news_contents = []\n",
    "list_links = []\n",
    "list_titles = []\n",
    "\n",
    "for n in np.arange(0, number_of_articles):\n",
    "    if \"live\" in coverpage_news[n].find('a')['href']:  \n",
    "        continue\n",
    "    # Getlink of the article\n",
    "    link = coverpage_news[n].find('a')['href']\n",
    "    title = coverpage_news[n].find('a').get_text()\n",
    "    # Reading the content \n",
    "    article = requests.get(link)\n",
    "    article_content = article.content\n",
    "    soup_article = BeautifulSoup(article_content, 'html5lib')\n",
    "    body = soup_article.find_all('div', class_='content__article-body from-content-api js-article__body')\n",
    "    if (len(body)) == 0:\n",
    "        continue\n",
    "    x = body[0].find_all('p')\n",
    "\n",
    "    list_paragraphs = []\n",
    "    for p in np.arange(0, len(x)):\n",
    "        paragraph = x[p].get_text()\n",
    "        list_paragraphs.append(paragraph)\n",
    "        final_article = \" \".join(list_paragraphs)\n",
    "    news_contents.append(final_article)\n",
    "    list_links.append(link)\n",
    "    list_titles.append(title)"
   ]
  },
  {
   "cell_type": "code",
   "execution_count": 4,
   "metadata": {},
   "outputs": [],
   "source": [
    "df_features = pd.DataFrame(\n",
    "     {'Article_Content': news_contents,\n",
    "      'Article_Title': list_titles, \n",
    "      'Article_Link': list_links\n",
    "    })\n",
    "\n",
    "# df_show_info\n",
    "df_show_info = pd.DataFrame(\n",
    "    {'Article_Title': list_titles,\n",
    "     'Article_Link': list_links})"
   ]
  },
  {
   "cell_type": "code",
   "execution_count": 5,
   "metadata": {},
   "outputs": [
    {
     "data": {
      "text/html": [
       "<div>\n",
       "<style scoped>\n",
       "    .dataframe tbody tr th:only-of-type {\n",
       "        vertical-align: middle;\n",
       "    }\n",
       "\n",
       "    .dataframe tbody tr th {\n",
       "        vertical-align: top;\n",
       "    }\n",
       "\n",
       "    .dataframe thead th {\n",
       "        text-align: right;\n",
       "    }\n",
       "</style>\n",
       "<table border=\"1\" class=\"dataframe\">\n",
       "  <thead>\n",
       "    <tr style=\"text-align: right;\">\n",
       "      <th></th>\n",
       "      <th>Article_Content</th>\n",
       "      <th>Article_Title</th>\n",
       "      <th>Article_Link</th>\n",
       "    </tr>\n",
       "  </thead>\n",
       "  <tbody>\n",
       "    <tr>\n",
       "      <td>0</td>\n",
       "      <td>Key workers and NHS staff have raised concerns...</td>\n",
       "      <td>Testing  Concerns over delays and errors at UK...</td>\n",
       "      <td>https://www.theguardian.com/society/2020/apr/2...</td>\n",
       "    </tr>\n",
       "    <tr>\n",
       "      <td>1</td>\n",
       "      <td>Key workers and NHS staff have raised concerns...</td>\n",
       "      <td>Testing  Concerns over delays and errors at UK...</td>\n",
       "      <td>https://www.theguardian.com/society/2020/apr/2...</td>\n",
       "    </tr>\n",
       "    <tr>\n",
       "      <td>2</td>\n",
       "      <td>Lithuania’s capital, Vilnius, has announced pl...</td>\n",
       "      <td>Lithuania  Capital to be turned into vast open...</td>\n",
       "      <td>https://www.theguardian.com/world/2020/apr/28/...</td>\n",
       "    </tr>\n",
       "    <tr>\n",
       "      <td>3</td>\n",
       "      <td>Lithuania’s capital, Vilnius, has announced pl...</td>\n",
       "      <td>Lithuania  Capital to be turned into vast open...</td>\n",
       "      <td>https://www.theguardian.com/world/2020/apr/28/...</td>\n",
       "    </tr>\n",
       "    <tr>\n",
       "      <td>4</td>\n",
       "      <td>It has dominated global headlines for weeks, a...</td>\n",
       "      <td>Quiz  How much do you know about the coronavir...</td>\n",
       "      <td>https://www.theguardian.com/world/2020/apr/28/...</td>\n",
       "    </tr>\n",
       "  </tbody>\n",
       "</table>\n",
       "</div>"
      ],
      "text/plain": [
       "                                     Article_Content  \\\n",
       "0  Key workers and NHS staff have raised concerns...   \n",
       "1  Key workers and NHS staff have raised concerns...   \n",
       "2  Lithuania’s capital, Vilnius, has announced pl...   \n",
       "3  Lithuania’s capital, Vilnius, has announced pl...   \n",
       "4  It has dominated global headlines for weeks, a...   \n",
       "\n",
       "                                       Article_Title  \\\n",
       "0  Testing  Concerns over delays and errors at UK...   \n",
       "1  Testing  Concerns over delays and errors at UK...   \n",
       "2  Lithuania  Capital to be turned into vast open...   \n",
       "3  Lithuania  Capital to be turned into vast open...   \n",
       "4  Quiz  How much do you know about the coronavir...   \n",
       "\n",
       "                                        Article_Link  \n",
       "0  https://www.theguardian.com/society/2020/apr/2...  \n",
       "1  https://www.theguardian.com/society/2020/apr/2...  \n",
       "2  https://www.theguardian.com/world/2020/apr/28/...  \n",
       "3  https://www.theguardian.com/world/2020/apr/28/...  \n",
       "4  https://www.theguardian.com/world/2020/apr/28/...  "
      ]
     },
     "execution_count": 5,
     "metadata": {},
     "output_type": "execute_result"
    }
   ],
   "source": [
    "df_features.head()"
   ]
  },
  {
   "cell_type": "code",
   "execution_count": 6,
   "metadata": {},
   "outputs": [],
   "source": [
    "# Helper Functions\n",
    "\n",
    "def words_to_artical(articles):\n",
    "    #tokenizes articles\n",
    "    for article in articles:\n",
    "        yield(gensim.utils.simple_preprocess(article, deacc=True))  # removes punctuations\n",
    "        \n",
    "def remove_of_stopword(texts):\n",
    "    stop_words = stopwords.words('english')                     ##remove stopword in english\n",
    "    stop_words.extend(['from', 'subject', 're', 'edu', 'use', 'say', 'also', 'would', 'may'])\n",
    "    return [[word for word in simple_preprocess(str(doc)) if word not in stop_words] for doc in texts]\n",
    "\n",
    "def model_bigrams(texts):\n",
    "    #Applies the bigram model\n",
    "    return [bigram_mod[doc] for doc in texts]\n",
    "\n",
    "nlp = spacy.load('en', disable=['parser', 'ner'])\n",
    "def lemmatization(texts, allowed_postags=['NOUN', 'ADJ', 'VERB', 'ADV']):\n",
    "    texts_out = []\n",
    "    for sent in texts:\n",
    "        doc = nlp(\" \".join(sent))\n",
    "        texts_out.append([token.lemma_ for token in doc if token.pos_ in allowed_postags])\n",
    "    return texts_out"
   ]
  },
  {
   "cell_type": "code",
   "execution_count": 7,
   "metadata": {},
   "outputs": [],
   "source": [
    "def data_process(df):\n",
    "    articles = list(df['Article_Content'])                                          \n",
    "    list_of_words = list(words_to_artical(articles))                        \n",
    "    \n",
    "    common_terms = [\"of\", \"with\", \"without\", \"and\", \"or\", \"the\", \"a\"]\n",
    "    bigram = gensim.models.Phrases(list_of_words, \n",
    "                                   min_count=4, \n",
    "                                   threshold=30, \n",
    "                                   common_terms=common_terms)            \n",
    "    bigram_mod = gensim.models.phrases.Phraser(bigram)                  \n",
    "    \n",
    "    return list_of_words, bigram_mod"
   ]
  },
  {
   "cell_type": "code",
   "execution_count": 8,
   "metadata": {},
   "outputs": [],
   "source": [
    "list_of_words, bigram_mod = data_process(df_features)\n",
    "list_of_words_lemmatized = lemmatization( list_of_words )\n",
    "list_of_words_nostops = remove_of_stopword( list_of_words_lemmatized)\n",
    "data_final = model_bigrams(list_of_words_nostops)\n"
   ]
  },
  {
   "cell_type": "code",
   "execution_count": 9,
   "metadata": {},
   "outputs": [],
   "source": [
    "word_dic_con = corpora.Dictionary(data_final)\n",
    "corpus = [word_dic_con.doc2bow(text) for text in data_final]"
   ]
  },
  {
   "cell_type": "code",
   "execution_count": 10,
   "metadata": {},
   "outputs": [
    {
     "name": "stdout",
     "output_type": "stream",
     "text": [
      "5\n",
      "10\n",
      "15\n",
      "20\n",
      "25\n",
      "30\n",
      "35\n",
      "40\n",
      "45\n"
     ]
    }
   ],
   "source": [
    "def compute_coherence_values(dictionary, corpus, texts, limit, start=2, step=3):\n",
    "   \n",
    "    #dictionary : Gensim dictionary\n",
    "    #corpus : Gensim corpus\n",
    "    #texts : List of input texts\n",
    "    #limit : Max num of topics #model_list : List of LDA topic models`\n",
    "    #coherence_values : Coherence values corresponding to the LDA model with respective number of topics\n",
    "    coherence_values = []\n",
    "    model_list = []\n",
    "    #print(word_dic_con)\n",
    "    #print(corpus)\n",
    "    #print(data_final)\n",
    "    for num_topics in range(start, limit, step):\n",
    "        model = gensim.models.LdaMulticore(corpus=corpus,\n",
    "                                           id2word=word_dic_con,\n",
    "                                           num_topics=num_topics,\n",
    "                                           random_state=100,\n",
    "                                           passes=20,\n",
    "                                           per_word_topics=True,\n",
    "                                           workers=25)\n",
    "        model_list.append(model)\n",
    "        coherencemodel = gensim.models.CoherenceModel(model=model, texts=texts, dictionary=dictionary, coherence='c_v')\n",
    "        coherence_values.append(coherencemodel.get_coherence())\n",
    "        print(num_topics)\n",
    "\n",
    "    return model_list, coherence_values\n",
    "\n",
    "start=5; limit=50; step=5\n",
    "model_list, coherence_values = compute_coherence_values(dictionary=word_dic_con, corpus=corpus, texts=data_final, start=start, limit=limit, step=step)"
   ]
  },
  {
   "cell_type": "code",
   "execution_count": 11,
   "metadata": {},
   "outputs": [
    {
     "name": "stdout",
     "output_type": "stream",
     "text": [
      "[0.3226195839907118, 0.3875735703543982, 0.3723561363663951, 0.3989792646196798, 0.32715107523940845, 0.3570580376039896, 0.38735449343432493, 0.4014282193045567, 0.4065755562579575]\n"
     ]
    }
   ],
   "source": [
    "print(coherence_values)"
   ]
  },
  {
   "cell_type": "code",
   "execution_count": 12,
   "metadata": {},
   "outputs": [],
   "source": [
    "final_model_lda = model_list[coherence_values.index(max(coherence_values))]  # Model with highest coherence\n",
    "temp_file = datapath(\"final_model_lda\")\n",
    "final_model_lda.save(temp_file)\n"
   ]
  },
  {
   "cell_type": "code",
   "execution_count": 17,
   "metadata": {},
   "outputs": [
    {
     "data": {
      "image/png": "[encoded data removed]",
      "text/plain": [
       "<Figure size 432x288 with 1 Axes>"
      ]
     },
     "metadata": {
      "needs_background": "light"
     },
     "output_type": "display_data"
    }
   ],
   "source": [
    "start=5; limit=50; step=5\n",
    "x = range(start, limit, step)\n",
    "plt.plot(x, coherence_values)\n",
    "plt.xlabel(\"Num Topics\")\n",
    "plt.ylabel(\"Coherence score\")\n",
    "plt.legend((\"coherence_values\"), loc='best')\n",
    "plt.show()"
   ]
  },
  {
   "cell_type": "code",
   "execution_count": null,
   "metadata": {},
   "outputs": [],
   "source": []
  }
 ],
 "metadata": {
  "kernelspec": {
   "display_name": "Python 3",
   "language": "python",
   "name": "python3"
  },
  "language_info": {
   "codemirror_mode": {
    "name": "ipython",
    "version": 3
   },
   "file_extension": ".py",
   "mimetype": "text/x-python",
   "name": "python",
   "nbconvert_exporter": "python",
   "pygments_lexer": "ipython3",
   "version": "3.7.4"
  }
 },
 "nbformat": 4,
 "nbformat_minor": 2
}
